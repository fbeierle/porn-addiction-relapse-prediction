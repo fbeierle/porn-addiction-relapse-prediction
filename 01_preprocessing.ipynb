{
 "cells": [
  {
   "cell_type": "markdown",
   "id": "22d32b7a",
   "metadata": {},
   "source": [
    "# Script 01: Pre-processing\n",
    "\n",
    "The overall goal of the project is the prediction of a relapse of porn-addicted study participants.\n",
    "\n",
    "The data we have:\n",
    "\n",
    "c - Demographic information.\n",
    "\n",
    "q - A questionnaire filled out from time to time. Domain expert tell us that the results should be valid for up to 14 days.\n",
    "\n",
    "r - A questionnaire (reminder) to be filled out up to three times a day. Here, participants note if they relapsed and report their current feelings.\n",
    "\n",
    "This script pre-processes our data. In the end, we have our final dataset. Each row is an instance of a reminder r, for which we have valid info from q and c. We will then try to predict the relapse by q, c, and the answers given in the previous r.\n",
    "\n",
    "Please note: For privacy reasons, we cannot show the contents of the data."
   ]
  },
  {
   "cell_type": "code",
   "execution_count": 1,
   "id": "6ca8bc45",
   "metadata": {},
   "outputs": [
    {
     "data": {
      "text/html": [
       "<style>.container { width:90% !important; }</style>"
      ],
      "text/plain": [
       "<IPython.core.display.HTML object>"
      ]
     },
     "metadata": {},
     "output_type": "display_data"
    }
   ],
   "source": [
    "# window extension & maximaze rows and columns & imports\n",
    "\n",
    "import pandas as pd\n",
    "import matplotlib.pyplot as plt\n",
    "import numpy as np\n",
    "\n",
    "from IPython.core.display import display, HTML\n",
    "display(HTML(\"<style>.container { width:90% !important; }</style>\"))\n",
    "\n",
    "#pd.set_option(\"display.max_rows\", 100, \"display.max_columns\", 100)"
   ]
  },
  {
   "cell_type": "code",
   "execution_count": 2,
   "id": "f8c926c5",
   "metadata": {},
   "outputs": [],
   "source": [
    "# read in the data\n",
    "c = pd.read_csv(\"data/characteristics.csv\")\n",
    "q = pd.read_csv(\"data/screen.csv\", na_values = 'NA')\n",
    "r = pd.read_csv(\"data/reminder.csv\", parse_dates=['activityDate'])"
   ]
  },
  {
   "cell_type": "markdown",
   "id": "9f59baba",
   "metadata": {},
   "source": [
    "# Prepare dataset q"
   ]
  },
  {
   "cell_type": "code",
   "execution_count": 3,
   "id": "0fd8cbb2",
   "metadata": {},
   "outputs": [],
   "source": [
    "#q.head()"
   ]
  },
  {
   "cell_type": "code",
   "execution_count": 4,
   "id": "cf74e805",
   "metadata": {},
   "outputs": [],
   "source": [
    "# keep only relevant columns from q\n",
    "q = q[['responderId','activityDate','screen_use_guilt', 'screen_self_satysfaction','screen_tried_to_stop','screen_use_to_cope','screen_hard_to_resist','screen_use_more_last_week','screen_proud',\n",
    "       'main_profile', 'gender', 'age', 'city','treatment']]"
   ]
  },
  {
   "cell_type": "code",
   "execution_count": 5,
   "id": "f01b7045",
   "metadata": {},
   "outputs": [
    {
     "data": {
      "text/plain": [
       "MALE       13296\n",
       "FEMALE      3799\n",
       "unknown      513\n",
       "Name: gender, dtype: int64"
      ]
     },
     "execution_count": 5,
     "metadata": {},
     "output_type": "execute_result"
    }
   ],
   "source": [
    "# looking into gender distribution - we are only going to keep the \"MALE\" entries, as we do not have enough data for the other options\n",
    "q['gender'].value_counts()"
   ]
  },
  {
   "cell_type": "code",
   "execution_count": 6,
   "id": "27203d92",
   "metadata": {},
   "outputs": [
    {
     "data": {
      "text/plain": [
       "668"
      ]
     },
     "execution_count": 6,
     "metadata": {},
     "output_type": "execute_result"
    }
   ],
   "source": [
    "# keep only \"watch_porn\" and \"male\"\n",
    "q = q[(q.gender == \"MALE\") & (q.main_profile == \"watch_porn\")]\n",
    "q.responderId.nunique()"
   ]
  },
  {
   "cell_type": "code",
   "execution_count": 7,
   "id": "2b8ae38d",
   "metadata": {},
   "outputs": [],
   "source": [
    "# calculate screen_gen variable and add it to our df\n",
    "q.loc[:, 'screen_gen'] = q[['screen_hard_to_resist', 'screen_tried_to_stop', 'screen_use_guilt', 'screen_use_more_last_week', 'screen_use_to_cope']].mean(axis='columns')"
   ]
  },
  {
   "cell_type": "code",
   "execution_count": 8,
   "id": "ab421e6b",
   "metadata": {},
   "outputs": [],
   "source": [
    "#q.head()"
   ]
  },
  {
   "cell_type": "markdown",
   "id": "7742ca28",
   "metadata": {},
   "source": [
    "# Prepare dataset r"
   ]
  },
  {
   "cell_type": "code",
   "execution_count": 9,
   "id": "8cab979d",
   "metadata": {},
   "outputs": [],
   "source": [
    "#r.head()"
   ]
  },
  {
   "cell_type": "code",
   "execution_count": 10,
   "id": "1e59ee02",
   "metadata": {},
   "outputs": [],
   "source": [
    "# set relapse as class 1, no relapse as class 0\n",
    "r['relapse'].replace({0:1, 1:0}, inplace=True)"
   ]
  },
  {
   "cell_type": "code",
   "execution_count": 11,
   "id": "654c293f",
   "metadata": {},
   "outputs": [],
   "source": [
    "# keep only \"watch_porn\" in main_profile and \"male\" in r\n",
    "r = r[(r.gender == \"MALE\") & (r.main_profile == \"watch_porn\")]\n",
    "\n",
    "# keep only relevant columns from r\n",
    "r = r.drop(['age', 'city', 'treatment', 'main_profile', 'gender'], axis=1)\n",
    "\n",
    "# changing name of a column becuase q and r have the same variable 'activityDate' that contain different data \n",
    "r = r.rename(columns={\"activityDate\": \"this_date\"})"
   ]
  },
  {
   "cell_type": "code",
   "execution_count": 12,
   "id": "554d990d",
   "metadata": {},
   "outputs": [],
   "source": [
    "#r.head()"
   ]
  },
  {
   "cell_type": "markdown",
   "id": "ae3198e5",
   "metadata": {},
   "source": [
    "# Prepare dataset c"
   ]
  },
  {
   "cell_type": "code",
   "execution_count": 13,
   "id": "d90b01d9",
   "metadata": {},
   "outputs": [],
   "source": [
    "#c.head()"
   ]
  },
  {
   "cell_type": "code",
   "execution_count": 14,
   "id": "adb24850",
   "metadata": {},
   "outputs": [],
   "source": [
    "# keep only \"watch_porn\" in main_profile and \"male\" in c\n",
    "c = c[(c.gender == \"MALE\") & (c.main_profile == \"watch_porn\")]\n",
    "\n",
    "# keep only relevant columns from r\n",
    "c = c.drop(['age', 'city', 'treatment', 'main_profile', 'gender', 'watch_porn'], axis=1)"
   ]
  },
  {
   "cell_type": "code",
   "execution_count": 15,
   "id": "d7058195",
   "metadata": {},
   "outputs": [],
   "source": [
    "#c.head()"
   ]
  },
  {
   "cell_type": "markdown",
   "id": "c6b5a761",
   "metadata": {},
   "source": [
    "# Merge q and c"
   ]
  },
  {
   "cell_type": "code",
   "execution_count": 16,
   "id": "befb6e91",
   "metadata": {},
   "outputs": [],
   "source": [
    "# add prefixes so we immediatly see which column is from q and which from r\n",
    "c = c.add_prefix('c_')\n",
    "c = c.rename(columns={\"c_responderId\": \"responderId\"})\n",
    "q = q.add_prefix('q_')\n",
    "q = q.rename(columns={\"q_responderId\": \"responderId\"})\n",
    "r = r.add_prefix('r_')\n",
    "r = r.rename(columns={\"r_responderId\": \"responderId\"})\n",
    "\n",
    "# add identifying column\n",
    "q['type'] = 'q'\n",
    "r['type'] = 'r'"
   ]
  },
  {
   "cell_type": "code",
   "execution_count": 17,
   "id": "fd8f4ece",
   "metadata": {},
   "outputs": [],
   "source": [
    "# merge the two dataframes\n",
    "cq = pd.merge(q, c, on=[\"responderId\"])"
   ]
  },
  {
   "cell_type": "code",
   "execution_count": 18,
   "id": "1249da98",
   "metadata": {},
   "outputs": [],
   "source": [
    "#cq.head()"
   ]
  },
  {
   "cell_type": "markdown",
   "id": "b219314c",
   "metadata": {},
   "source": [
    "# qc: Calculate time difference between two consecutive q questionnaires"
   ]
  },
  {
   "cell_type": "code",
   "execution_count": 19,
   "id": "0b752683",
   "metadata": {},
   "outputs": [],
   "source": [
    "# set datetime format\n",
    "cq['q_activityDate'] = pd.to_datetime(cq['q_activityDate']).dt.tz_localize(None)\n",
    "\n",
    "# sort q_activityDate\n",
    "cq = cq.sort_values(['responderId', 'q_activityDate'], ascending = (True, True))\n",
    "\n",
    "# calculate delta to previous q\n",
    "cq['q_delta'] = (cq['q_activityDate']-cq['q_activityDate'].shift()).fillna(pd.Timedelta(seconds=0))"
   ]
  },
  {
   "cell_type": "code",
   "execution_count": 20,
   "id": "f2e24899",
   "metadata": {},
   "outputs": [],
   "source": [
    "# set first q to 0 seconds time delta\n",
    "# https://stackoverflow.com/questions/46242488/change-first-element-of-each-group-in-pandas-dataframe\n",
    "cq.loc[cq.groupby('responderId')['q_delta'].head(1).index, 'q_delta'] = pd.Timedelta(\"0 seconds\")"
   ]
  },
  {
   "cell_type": "markdown",
   "id": "e5bee70d",
   "metadata": {},
   "source": [
    "# r: Calculate time difference between two consecutive r questionnaires"
   ]
  },
  {
   "cell_type": "code",
   "execution_count": 21,
   "id": "19489a63",
   "metadata": {},
   "outputs": [],
   "source": [
    "# set datetime format\n",
    "r['r_this_date'] = pd.to_datetime(r['r_this_date']).dt.tz_localize(None)\n",
    "\n",
    "# sort r_this_date\n",
    "r = r.sort_values(['responderId', 'r_this_date'], ascending = (True, True))"
   ]
  },
  {
   "cell_type": "code",
   "execution_count": 22,
   "id": "8968994c",
   "metadata": {},
   "outputs": [],
   "source": [
    "# group-wise (by participantId): shift all values except responderId, date, q_age, q_city, q_treatment, r_relapse to the next row\n",
    "\n",
    "# https://stackoverflow.com/questions/26280345/pandas-shift-down-values-by-one-row-within-a-group/31212472\n",
    "\n",
    "columns_list_to_shift = ['r_presser',\n",
    " 'r_anger',\n",
    " 'r_uncertain',\n",
    " 'r_uncertain_scale',\n",
    " 'r_arousal',\n",
    " 'r_mood_valence',\n",
    " 'r_anxiety',\n",
    " 'r_procrastination',\n",
    " 'r_craving',\n",
    " 'r_hunger',\n",
    " 'r_lonlyness',\n",
    " 'r_fatigue',\n",
    " 'r_addiction_succumb_times',\n",
    " 'r_addiction_succumb_consequences',\n",
    " 'r_persevere_difficulty',\n",
    " 'r_addiction_succumb_reason_0',\n",
    " 'r_addiction_succumb_reason_1',\n",
    " 'r_addiction_succumb_reason_2',\n",
    " 'r_addiction_succumb_reason_3',\n",
    " 'r_addiction_succumb_reason_4',\n",
    " 'r_addiction_succumb_reason_5',\n",
    " 'r_addiction_succumb_reason_6',\n",
    " 'r_addiction_succumb_reason_7',\n",
    " 'r_addiction_succumb_reason_8',\n",
    " 'r_addiction_succumb_reason_9',\n",
    " 'r_addiction_succumb_reason_10',\n",
    " 'r_addiction_succumb_reason_11',\n",
    " 'r_addiction_succumb_reason_12',\n",
    " 'r_persevere_motivation_0',\n",
    " 'r_persevere_motivation_1',\n",
    " 'r_persevere_motivation_2',\n",
    " 'r_persevere_motivation_3',\n",
    " 'r_persevere_motivation_4',\n",
    " 'r_persevere_motivation_5',\n",
    " 'r_persevere_motivation_6',\n",
    " 'r_persevere_motivation_7',\n",
    " 'r_persevere_motivation_8',\n",
    " 'r_persevere_motivation_9',\n",
    " 'r_addiction_succumb_consequences2_0',\n",
    " 'r_addiction_succumb_consequences2_1',\n",
    " 'r_addiction_succumb_consequences2_2',\n",
    " 'r_addiction_succumb_consequences2_3',\n",
    " 'r_addiction_succumb_consequences2_4',\n",
    " 'r_addiction_succumb_consequences2_5',\n",
    " 'r_addiction_succumb_consequences2_6',\n",
    " 'r_addiction_succumb_consequences2_7',\n",
    " 'r_addiction_succumb_consequences2_8',\n",
    " 'r_addiction_succumb_consequences2_9',\n",
    " 'r_addiction_succumb_consequences2_10',\n",
    " 'r_addiction_succumb_consequences2_11',\n",
    " 'r_addiction_succumb_consequences2_12',\n",
    " 'r_addiction_succumb_consequences2_13',\n",
    " 'r_addiction_succumb_consequences2_14',\n",
    " 'r_addiction_succumb_consequences2_15',\n",
    " 'r_addiction_succumb_consequences2_16',\n",
    " 'r_addiction_succumb_consequences2_18',\n",
    " 'r_addiction_succumb_consequences2_19',\n",
    " 'r_addiction_succumb_consequences2_20',\n",
    " 'r_addiction_succumb_consequences2_21',\n",
    " 'r_addiction_succumb_consequences2_22']\n",
    "\n",
    "for col in columns_list_to_shift:\n",
    "    col_shifted = col+'_shifted_1'\n",
    "    r[col_shifted] = r.groupby(['responderId'])[col].shift(1)"
   ]
  },
  {
   "cell_type": "code",
   "execution_count": 23,
   "id": "659b7ed4",
   "metadata": {},
   "outputs": [],
   "source": [
    "# delete all rows whose time diff to previous row is greater than 24h - step 1: write down time-diff\n",
    "# https://stackoverflow.com/questions/16777570/calculate-time-difference-between-pandas-dataframe-indices\n",
    "r['r_delta'] = (r['r_this_date']-r['r_this_date'].shift()).fillna(pd.Timedelta(seconds=0))\n",
    "\n",
    "# to have consistent data, we need to delete the first row of each group\n",
    "# https://stackoverflow.com/questions/31226142/python-pandas-delete-the-first-row-by-group\n",
    "r = r.groupby('responderId').apply(lambda group: group.iloc[1:, 1:])"
   ]
  },
  {
   "cell_type": "code",
   "execution_count": 24,
   "id": "5a91319f",
   "metadata": {},
   "outputs": [],
   "source": [
    "# clean-up\n",
    "r = r.reset_index()\n",
    "r = r.drop(columns=columns_list_to_shift)\n",
    "r = r.drop(columns=['level_1'])"
   ]
  },
  {
   "cell_type": "code",
   "execution_count": 25,
   "id": "e69fa564",
   "metadata": {},
   "outputs": [],
   "source": [
    "#r.head()"
   ]
  },
  {
   "cell_type": "markdown",
   "id": "440b9bf2",
   "metadata": {},
   "source": [
    "# Concat qc and r"
   ]
  },
  {
   "cell_type": "code",
   "execution_count": 26,
   "id": "4dd155bf",
   "metadata": {},
   "outputs": [],
   "source": [
    "cqr = pd.concat([cq, r])"
   ]
  },
  {
   "cell_type": "code",
   "execution_count": 27,
   "id": "356acacb",
   "metadata": {},
   "outputs": [],
   "source": [
    "#cqr.head()"
   ]
  },
  {
   "cell_type": "markdown",
   "id": "b87d940c",
   "metadata": {},
   "source": [
    "# Define a single \"date\" column"
   ]
  },
  {
   "cell_type": "code",
   "execution_count": 28,
   "id": "be9ec5cf",
   "metadata": {},
   "outputs": [],
   "source": [
    "# add date column\n",
    "cqr['date'] = pd.NaT"
   ]
  },
  {
   "cell_type": "code",
   "execution_count": 29,
   "id": "7cf8b887",
   "metadata": {},
   "outputs": [],
   "source": [
    "# reorder columns - put ID and dates to the left for readability\n",
    "\n",
    "cqr = cqr[['responderId',\n",
    " 'date',\n",
    " 'r_this_date',\n",
    " 'q_activityDate',\n",
    " 'type',\n",
    " 'r_delta',\n",
    " 'q_delta',\n",
    " 'q_screen_use_guilt',\n",
    " 'q_screen_self_satysfaction',\n",
    " 'q_screen_tried_to_stop',\n",
    " 'q_screen_use_to_cope',\n",
    " 'q_screen_hard_to_resist',\n",
    " 'q_screen_use_more_last_week',\n",
    " 'q_screen_proud',\n",
    " 'q_main_profile',\n",
    " 'q_gender',\n",
    " 'q_age',\n",
    " 'q_city',\n",
    " 'q_treatment',\n",
    " 'q_screen_gen',\n",
    " 'c_addiction_default',\n",
    " 'c_alco',\n",
    " 'c_amphetamine',\n",
    " 'c_caffeine',\n",
    " 'c_cocaine',\n",
    " 'c_compulsive_sex',\n",
    " 'c_compulsive_shopping',\n",
    " 'c_eating',\n",
    " 'c_gambling',\n",
    " 'c_games',\n",
    " 'c_hallucinogen',\n",
    " 'c_heroine',\n",
    " 'c_marijuana',\n",
    " 'c_masturbation',\n",
    " 'c_nicotine',\n",
    " 'c_painkillers',\n",
    " 'c_series',\n",
    " 'c_stimulants',\n",
    " 'c_sweets',\n",
    " 'c_work',\n",
    " 'r_relapse',\n",
    " 'r_addiction_succumb_reason_other',\n",
    " 'r_persevere_motivation_other',\n",
    " 'r_presser_shifted_1',\n",
    " 'r_anger_shifted_1',\n",
    " 'r_uncertain_shifted_1',\n",
    " 'r_uncertain_scale_shifted_1',\n",
    " 'r_arousal_shifted_1',\n",
    " 'r_mood_valence_shifted_1',\n",
    " 'r_anxiety_shifted_1',\n",
    " 'r_procrastination_shifted_1',\n",
    " 'r_craving_shifted_1',\n",
    " 'r_hunger_shifted_1',\n",
    " 'r_lonlyness_shifted_1',\n",
    " 'r_fatigue_shifted_1',\n",
    " 'r_addiction_succumb_times_shifted_1',\n",
    " 'r_addiction_succumb_consequences_shifted_1',\n",
    " 'r_persevere_difficulty_shifted_1',\n",
    " 'r_addiction_succumb_reason_0_shifted_1',\n",
    " 'r_addiction_succumb_reason_1_shifted_1',\n",
    " 'r_addiction_succumb_reason_2_shifted_1',\n",
    " 'r_addiction_succumb_reason_3_shifted_1',\n",
    " 'r_addiction_succumb_reason_4_shifted_1',\n",
    " 'r_addiction_succumb_reason_5_shifted_1',\n",
    " 'r_addiction_succumb_reason_6_shifted_1',\n",
    " 'r_addiction_succumb_reason_7_shifted_1',\n",
    " 'r_addiction_succumb_reason_8_shifted_1',\n",
    " 'r_addiction_succumb_reason_9_shifted_1',\n",
    " 'r_addiction_succumb_reason_10_shifted_1',\n",
    " 'r_addiction_succumb_reason_11_shifted_1',\n",
    " 'r_addiction_succumb_reason_12_shifted_1',\n",
    " 'r_persevere_motivation_0_shifted_1',\n",
    " 'r_persevere_motivation_1_shifted_1',\n",
    " 'r_persevere_motivation_2_shifted_1',\n",
    " 'r_persevere_motivation_3_shifted_1',\n",
    " 'r_persevere_motivation_4_shifted_1',\n",
    " 'r_persevere_motivation_5_shifted_1',\n",
    " 'r_persevere_motivation_6_shifted_1',\n",
    " 'r_persevere_motivation_7_shifted_1',\n",
    " 'r_persevere_motivation_8_shifted_1',\n",
    " 'r_persevere_motivation_9_shifted_1',\n",
    " 'r_addiction_succumb_consequences2_0_shifted_1',\n",
    " 'r_addiction_succumb_consequences2_1_shifted_1',\n",
    " 'r_addiction_succumb_consequences2_2_shifted_1',\n",
    " 'r_addiction_succumb_consequences2_3_shifted_1',\n",
    " 'r_addiction_succumb_consequences2_4_shifted_1',\n",
    " 'r_addiction_succumb_consequences2_5_shifted_1',\n",
    " 'r_addiction_succumb_consequences2_6_shifted_1',\n",
    " 'r_addiction_succumb_consequences2_7_shifted_1',\n",
    " 'r_addiction_succumb_consequences2_8_shifted_1',\n",
    " 'r_addiction_succumb_consequences2_9_shifted_1',\n",
    " 'r_addiction_succumb_consequences2_10_shifted_1',\n",
    " 'r_addiction_succumb_consequences2_11_shifted_1',\n",
    " 'r_addiction_succumb_consequences2_12_shifted_1',\n",
    " 'r_addiction_succumb_consequences2_13_shifted_1',\n",
    " 'r_addiction_succumb_consequences2_14_shifted_1',\n",
    " 'r_addiction_succumb_consequences2_15_shifted_1',\n",
    " 'r_addiction_succumb_consequences2_16_shifted_1',\n",
    " 'r_addiction_succumb_consequences2_18_shifted_1',\n",
    " 'r_addiction_succumb_consequences2_19_shifted_1',\n",
    " 'r_addiction_succumb_consequences2_20_shifted_1',\n",
    " 'r_addiction_succumb_consequences2_21_shifted_1',\n",
    " 'r_addiction_succumb_consequences2_22_shifted_1']]"
   ]
  },
  {
   "cell_type": "code",
   "execution_count": 30,
   "id": "d7a9c404",
   "metadata": {},
   "outputs": [],
   "source": [
    "# set date column\n",
    "# https://stackoverflow.com/questions/58303311/replace-a-column-with-another-column-if-another-is-not-null-in-pandas-dataframe\n",
    "cqr['date'] = np.where(~cqr['r_this_date'].isnull(), cqr['r_this_date'], cqr['q_activityDate'])"
   ]
  },
  {
   "cell_type": "code",
   "execution_count": 31,
   "id": "cfc7a49c",
   "metadata": {},
   "outputs": [],
   "source": [
    "# drop date columns that are now superfluous\n",
    "cqr = cqr.drop(columns=['r_this_date', 'q_activityDate', 'q_main_profile', 'q_gender'])"
   ]
  },
  {
   "cell_type": "markdown",
   "id": "2772378f",
   "metadata": {},
   "source": [
    "# Fill missing constant values from c"
   ]
  },
  {
   "cell_type": "code",
   "execution_count": 32,
   "id": "0d4bf701",
   "metadata": {},
   "outputs": [],
   "source": [
    "# q_age, q_city, q_treatment, and the c columns are constant for each responderId; propagate to rows where it is NaN\n",
    "\n",
    "columns_to_fill = ['q_age',\n",
    " 'q_city',\n",
    " 'q_treatment',\n",
    " 'c_addiction_default',\n",
    " 'c_alco',\n",
    " 'c_amphetamine',\n",
    " 'c_caffeine',\n",
    " 'c_cocaine',\n",
    " 'c_compulsive_sex',\n",
    " 'c_compulsive_shopping',\n",
    " 'c_eating',\n",
    " 'c_gambling',\n",
    " 'c_games',\n",
    " 'c_hallucinogen',\n",
    " 'c_heroine',\n",
    " 'c_marijuana',\n",
    " 'c_masturbation',\n",
    " 'c_nicotine',\n",
    " 'c_painkillers',\n",
    " 'c_series',\n",
    " 'c_stimulants',\n",
    " 'c_sweets',\n",
    " 'c_work']\n",
    "\n",
    "for col in columns_to_fill:\n",
    "    df_tmp = cqr.groupby(['responderId'])[col].first()\n",
    "    cqr[col] = np.where(~cqr[col].isnull(), cqr[col], df_tmp[cqr['responderId']])"
   ]
  },
  {
   "cell_type": "code",
   "execution_count": 33,
   "id": "5659b341",
   "metadata": {},
   "outputs": [],
   "source": [
    "# sort by responderId and date\n",
    "cqr = cqr.sort_values(['responderId', 'date'], ascending = (True, True))"
   ]
  },
  {
   "cell_type": "code",
   "execution_count": 34,
   "id": "9caf68d0",
   "metadata": {},
   "outputs": [],
   "source": [
    "# cqr.head()"
   ]
  },
  {
   "cell_type": "markdown",
   "id": "e53ac4f2",
   "metadata": {},
   "source": [
    "# Forward fill q values for up to 14 days\n",
    "The domain experts tell us that the answers to the q questionnaire are valid for up to 14 days.\n",
    "\n",
    "We forward fill the answers for up to 14 days and will remove the rows where we do not have q info."
   ]
  },
  {
   "cell_type": "code",
   "execution_count": 35,
   "id": "5210474d",
   "metadata": {},
   "outputs": [
    {
     "name": "stdout",
     "output_type": "stream",
     "text": [
      "Wall time: 2h 9min 14s\n"
     ]
    }
   ],
   "source": [
    "%%time\n",
    "\n",
    "# loop over all responderIds and create new DFs that contain the ffill values of q for max 14 days\n",
    "\n",
    "list_of_responderIds = cqr['responderId'].unique()\n",
    "\n",
    "result_dfs = []\n",
    "\n",
    "cnt = 0\n",
    "for responderId in list_of_responderIds:\n",
    "    cnt += 1\n",
    "    #print('processing user '+str(cnt)+' of '+str(len(list_of_responderIds))+': '+str(responderId))\n",
    "\n",
    "    # set datetime index; then resample to minutes\n",
    "    df_tmp = cqr.loc[cqr['responderId'] == responderId].copy()\n",
    "    #display(df_tmp)\n",
    "    df_tmp['date'] = pd.to_datetime(df_tmp['date'], format='%Y')\n",
    "    # if two timestamps are the same: increase the second one one minute\n",
    "    # if previous date is the same: increase current date\n",
    "    df_tmp.loc[df_tmp['date'] == df_tmp['date'].shift(-1), 'date'] = df_tmp['date'] + pd.Timedelta(minutes=1)\n",
    "    df_tmp = df_tmp.set_index(['date'])\n",
    "    df_tmp = df_tmp.resample('1T').max() # this takes the max value; should not matter, as we are expanding the df, not shortening\n",
    "    #print(df_tmp)\n",
    "\n",
    "    # ffill (copy forward) the q results for up to 14 days\n",
    "    # 14 days is 20160 minutes\n",
    "    cols = ['q_screen_use_guilt', 'q_screen_self_satysfaction', 'q_screen_tried_to_stop', 'q_screen_use_to_cope', 'q_screen_hard_to_resist', 'q_screen_use_more_last_week', 'q_screen_proud', 'q_screen_gen']\n",
    "    df_tmp.loc[:,cols] = df_tmp.loc[:,cols].fillna(method=\"ffill\", limit=20160)\n",
    "    \n",
    "    # drop all unimportant rows (identified by type = NaN)\n",
    "    df_tmp = df_tmp[df_tmp['type'].notna()]\n",
    "    #display(df_tmp)\n",
    "    df_tmp = df_tmp.reset_index()\n",
    "\n",
    "    result_dfs.append(df_tmp)\n",
    "\n",
    "# concat all results\n",
    "df = pd.concat(result_dfs)"
   ]
  },
  {
   "cell_type": "markdown",
   "id": "ddede08d",
   "metadata": {},
   "source": [
    "# Clean-up\n",
    "We remove rows we cannot use; columns we we cannot use; and rows with missing values that we should not impute."
   ]
  },
  {
   "cell_type": "code",
   "execution_count": 36,
   "id": "46db851e",
   "metadata": {},
   "outputs": [],
   "source": [
    "# remove type q rows - info is copied to r rows - this includes deletion of those that never filled our r\n",
    "df = df[df['type'] != 'q']\n",
    "\n",
    "# delete those with missing relapse info\n",
    "df = df[df['r_relapse'].notna()]\n",
    "\n",
    "# delete all rows whose time diff to previous row is greater than 24h - step 2: delete the rows\n",
    "df = df.reset_index() # so we do not delete multiple rows with one index\n",
    "df = df.drop(df[df['r_delta'].dt.days > 0].index)\n",
    "df = df.drop(columns=['index'])"
   ]
  },
  {
   "cell_type": "code",
   "execution_count": 37,
   "id": "b6fc0e2d",
   "metadata": {},
   "outputs": [],
   "source": [
    "# remove unnecessary columns\n",
    "df = df.drop(columns=['q_delta', 'type', 'c_addiction_default', 'r_persevere_motivation_other', 'r_addiction_succumb_reason_other'])"
   ]
  },
  {
   "cell_type": "code",
   "execution_count": 38,
   "id": "c1a4e5da",
   "metadata": {},
   "outputs": [],
   "source": [
    "# remove rows where q or c is not available\n",
    "clmns = ['q_screen_use_guilt',\n",
    " 'q_screen_self_satysfaction',\n",
    " 'q_screen_tried_to_stop',\n",
    " 'q_screen_use_to_cope',\n",
    " 'q_screen_hard_to_resist',\n",
    " 'q_screen_use_more_last_week',\n",
    " 'q_screen_proud',\n",
    " 'q_age',\n",
    " 'q_city',\n",
    " 'q_treatment',\n",
    " 'q_screen_gen',\n",
    " 'c_alco',\n",
    " 'c_amphetamine',\n",
    " 'c_caffeine',\n",
    " 'c_cocaine',\n",
    " 'c_compulsive_sex',\n",
    " 'c_compulsive_shopping',\n",
    " 'c_eating',\n",
    " 'c_gambling',\n",
    " 'c_games',\n",
    " 'c_hallucinogen',\n",
    " 'c_heroine',\n",
    " 'c_marijuana',\n",
    " 'c_masturbation',\n",
    " 'c_nicotine',\n",
    " 'c_painkillers',\n",
    " 'c_series',\n",
    " 'c_stimulants',\n",
    " 'c_sweets',\n",
    " 'c_work']\n",
    "\n",
    "for cl in clmns:\n",
    "    df = df[df[cl].notna()]"
   ]
  },
  {
   "cell_type": "markdown",
   "id": "fcc9b602",
   "metadata": {},
   "source": [
    "# Create new features: day of the week, time of day, time since last reminder r"
   ]
  },
  {
   "cell_type": "code",
   "execution_count": 39,
   "id": "4361cf93",
   "metadata": {},
   "outputs": [],
   "source": [
    "# day of the week\n",
    "df['day_of_week'] = df['date'].dt.weekday"
   ]
  },
  {
   "cell_type": "code",
   "execution_count": 40,
   "id": "51d4eec7",
   "metadata": {},
   "outputs": [],
   "source": [
    "# time of day\n",
    "# from date -> take time -> map to double/float\n",
    "df['time_of_day'] = df['date'].dt.time\n",
    "df['time_of_day_minutes'] = (pd.to_timedelta(df['time_of_day'].astype(str)) / pd.offsets.Minute(1))\n",
    "# minutes in a day: 1440\n",
    "df['time_of_day'] = df['time_of_day_minutes'] / 1440.0\n",
    "df = df.drop(columns = ['time_of_day_minutes'])"
   ]
  },
  {
   "cell_type": "code",
   "execution_count": 41,
   "id": "e26cd6d7",
   "metadata": {},
   "outputs": [],
   "source": [
    "# time since last reminder\n",
    "df['r_delta_f'] = (df['r_delta'] / np.timedelta64(1,'s') / 3600).astype(float)"
   ]
  },
  {
   "cell_type": "code",
   "execution_count": 42,
   "id": "a70ae6b2",
   "metadata": {},
   "outputs": [],
   "source": [
    "# drop columsn we do not need anymore\n",
    "df = df.drop(columns=['date', 'r_delta'])"
   ]
  },
  {
   "cell_type": "markdown",
   "id": "946bc7af",
   "metadata": {},
   "source": [
    "# Imputing missing values\n",
    "We impute missing values with the help of our domain experts."
   ]
  },
  {
   "cell_type": "code",
   "execution_count": 43,
   "id": "9fd078ae",
   "metadata": {},
   "outputs": [],
   "source": [
    "#df.info()"
   ]
  },
  {
   "cell_type": "code",
   "execution_count": 44,
   "id": "4d7e644c",
   "metadata": {},
   "outputs": [],
   "source": [
    "# we can impute NaN with 0 for these columns\n",
    "\n",
    "clmns = ['r_addiction_succumb_reason_0_shifted_1',\n",
    " 'r_addiction_succumb_reason_1_shifted_1',\n",
    " 'r_addiction_succumb_reason_2_shifted_1',\n",
    " 'r_addiction_succumb_reason_3_shifted_1',\n",
    " 'r_addiction_succumb_reason_4_shifted_1',\n",
    " 'r_addiction_succumb_reason_5_shifted_1',\n",
    " 'r_addiction_succumb_reason_6_shifted_1',\n",
    " 'r_addiction_succumb_reason_7_shifted_1',\n",
    " 'r_addiction_succumb_reason_8_shifted_1',\n",
    " 'r_addiction_succumb_reason_9_shifted_1',\n",
    " 'r_addiction_succumb_reason_10_shifted_1',\n",
    " 'r_addiction_succumb_reason_11_shifted_1',\n",
    " 'r_addiction_succumb_reason_12_shifted_1',\n",
    " 'r_persevere_motivation_0_shifted_1',\n",
    " 'r_persevere_motivation_1_shifted_1',\n",
    " 'r_persevere_motivation_2_shifted_1',\n",
    " 'r_persevere_motivation_3_shifted_1',\n",
    " 'r_persevere_motivation_4_shifted_1',\n",
    " 'r_persevere_motivation_5_shifted_1',\n",
    " 'r_persevere_motivation_6_shifted_1',\n",
    " 'r_persevere_motivation_7_shifted_1',\n",
    " 'r_persevere_motivation_8_shifted_1',\n",
    " 'r_persevere_motivation_9_shifted_1',\n",
    " 'r_addiction_succumb_consequences2_0_shifted_1',\n",
    " 'r_addiction_succumb_consequences2_1_shifted_1',\n",
    " 'r_addiction_succumb_consequences2_2_shifted_1',\n",
    " 'r_addiction_succumb_consequences2_3_shifted_1',\n",
    " 'r_addiction_succumb_consequences2_4_shifted_1',\n",
    " 'r_addiction_succumb_consequences2_5_shifted_1',\n",
    " 'r_addiction_succumb_consequences2_6_shifted_1',\n",
    " 'r_addiction_succumb_consequences2_7_shifted_1',\n",
    " 'r_addiction_succumb_consequences2_8_shifted_1',\n",
    " 'r_addiction_succumb_consequences2_9_shifted_1',\n",
    " 'r_addiction_succumb_consequences2_10_shifted_1',\n",
    " 'r_addiction_succumb_consequences2_11_shifted_1',\n",
    " 'r_addiction_succumb_consequences2_12_shifted_1',\n",
    " 'r_addiction_succumb_consequences2_13_shifted_1',\n",
    " 'r_addiction_succumb_consequences2_14_shifted_1',\n",
    " 'r_addiction_succumb_consequences2_15_shifted_1',\n",
    " 'r_addiction_succumb_consequences2_16_shifted_1',\n",
    " 'r_addiction_succumb_consequences2_18_shifted_1',\n",
    " 'r_addiction_succumb_consequences2_19_shifted_1',\n",
    " 'r_addiction_succumb_consequences2_20_shifted_1',\n",
    " 'r_addiction_succumb_consequences2_21_shifted_1',\n",
    " 'r_addiction_succumb_consequences2_22_shifted_1']\n",
    "\n",
    "for cl in clmns:\n",
    "    df[cl] = df[cl].fillna(0)"
   ]
  },
  {
   "cell_type": "code",
   "execution_count": 45,
   "id": "a096600a",
   "metadata": {},
   "outputs": [],
   "source": [
    "# columns to impute:\n",
    "\n",
    "# r_addiction_succumb_times_shifted_1 - NaN should just be 0 (meaning 0 relapses)\n",
    "df['r_addiction_succumb_times_shifted_1'] = df['r_addiction_succumb_times_shifted_1'].fillna(0)\n",
    "\n",
    "# r_addiction_succumb_consequences_shifted_1 - scale, on which relapsed users rated how strong the consequences were. Impute 0 for non-relpased users\n",
    "df['r_addiction_succumb_consequences_shifted_1'] = df['r_addiction_succumb_consequences_shifted_1'].fillna(0)\n",
    "\n",
    "# r_persevere_difficulty_shifted_1 - scale, on which non-relapsed users rated how difficult the abstinence was. Impute 10 for relapsed users\n",
    "df['r_persevere_difficulty_shifted_1'] = df['r_persevere_difficulty_shifted_1'].fillna(10)\n",
    "\n",
    "# r_uncertain_shifted_1 - \"do you feel there is some uncertainy in your life?\" 0 means \"yes\"; 1 and 2 mean \"no\" or \"don't know\"\n",
    "# r_uncertain_scale_shifted_1 - only answered if r_uncertain_shifted_1 was answered with yes/1; scale how strong the uncertainy is - impute 0 for users answering 1 or 2 to 'r_uncertain_shifted_1'\n",
    "df['r_uncertain_scale_shifted_1'] = df['r_uncertain_scale_shifted_1'].fillna(0)"
   ]
  },
  {
   "cell_type": "code",
   "execution_count": 46,
   "id": "dcb6ea06",
   "metadata": {},
   "outputs": [
    {
     "name": "stdout",
     "output_type": "stream",
     "text": [
      "<class 'pandas.core.frame.DataFrame'>\n",
      "Int64Index: 11645 entries, 0 to 16444\n",
      "Data columns (total 95 columns):\n",
      " #   Column                                          Non-Null Count  Dtype  \n",
      "---  ------                                          --------------  -----  \n",
      " 0   responderId                                     11645 non-null  float64\n",
      " 1   q_screen_use_guilt                              11645 non-null  float64\n",
      " 2   q_screen_self_satysfaction                      11645 non-null  float64\n",
      " 3   q_screen_tried_to_stop                          11645 non-null  float64\n",
      " 4   q_screen_use_to_cope                            11645 non-null  float64\n",
      " 5   q_screen_hard_to_resist                         11645 non-null  float64\n",
      " 6   q_screen_use_more_last_week                     11645 non-null  float64\n",
      " 7   q_screen_proud                                  11645 non-null  float64\n",
      " 8   q_age                                           11645 non-null  object \n",
      " 9   q_city                                          11645 non-null  object \n",
      " 10  q_treatment                                     11645 non-null  object \n",
      " 11  q_screen_gen                                    11645 non-null  float64\n",
      " 12  c_alco                                          11645 non-null  float64\n",
      " 13  c_amphetamine                                   11645 non-null  float64\n",
      " 14  c_caffeine                                      11645 non-null  float64\n",
      " 15  c_cocaine                                       11645 non-null  float64\n",
      " 16  c_compulsive_sex                                11645 non-null  float64\n",
      " 17  c_compulsive_shopping                           11645 non-null  float64\n",
      " 18  c_eating                                        11645 non-null  float64\n",
      " 19  c_gambling                                      11645 non-null  float64\n",
      " 20  c_games                                         11645 non-null  float64\n",
      " 21  c_hallucinogen                                  11645 non-null  float64\n",
      " 22  c_heroine                                       11645 non-null  float64\n",
      " 23  c_marijuana                                     11645 non-null  float64\n",
      " 24  c_masturbation                                  11645 non-null  float64\n",
      " 25  c_nicotine                                      11645 non-null  float64\n",
      " 26  c_painkillers                                   11645 non-null  float64\n",
      " 27  c_series                                        11645 non-null  float64\n",
      " 28  c_stimulants                                    11645 non-null  float64\n",
      " 29  c_sweets                                        11645 non-null  float64\n",
      " 30  c_work                                          11645 non-null  float64\n",
      " 31  r_relapse                                       11645 non-null  float64\n",
      " 32  r_presser_shifted_1                             11645 non-null  float64\n",
      " 33  r_anger_shifted_1                               11645 non-null  float64\n",
      " 34  r_uncertain_shifted_1                           11645 non-null  float64\n",
      " 35  r_uncertain_scale_shifted_1                     11645 non-null  float64\n",
      " 36  r_arousal_shifted_1                             11645 non-null  float64\n",
      " 37  r_mood_valence_shifted_1                        11645 non-null  float64\n",
      " 38  r_anxiety_shifted_1                             11645 non-null  float64\n",
      " 39  r_procrastination_shifted_1                     11645 non-null  float64\n",
      " 40  r_craving_shifted_1                             11645 non-null  float64\n",
      " 41  r_hunger_shifted_1                              11645 non-null  float64\n",
      " 42  r_lonlyness_shifted_1                           11645 non-null  float64\n",
      " 43  r_fatigue_shifted_1                             11645 non-null  float64\n",
      " 44  r_addiction_succumb_times_shifted_1             11645 non-null  float64\n",
      " 45  r_addiction_succumb_consequences_shifted_1      11645 non-null  float64\n",
      " 46  r_persevere_difficulty_shifted_1                11645 non-null  float64\n",
      " 47  r_addiction_succumb_reason_0_shifted_1          11645 non-null  float64\n",
      " 48  r_addiction_succumb_reason_1_shifted_1          11645 non-null  float64\n",
      " 49  r_addiction_succumb_reason_2_shifted_1          11645 non-null  float64\n",
      " 50  r_addiction_succumb_reason_3_shifted_1          11645 non-null  float64\n",
      " 51  r_addiction_succumb_reason_4_shifted_1          11645 non-null  float64\n",
      " 52  r_addiction_succumb_reason_5_shifted_1          11645 non-null  float64\n",
      " 53  r_addiction_succumb_reason_6_shifted_1          11645 non-null  float64\n",
      " 54  r_addiction_succumb_reason_7_shifted_1          11645 non-null  float64\n",
      " 55  r_addiction_succumb_reason_8_shifted_1          11645 non-null  float64\n",
      " 56  r_addiction_succumb_reason_9_shifted_1          11645 non-null  float64\n",
      " 57  r_addiction_succumb_reason_10_shifted_1         11645 non-null  float64\n",
      " 58  r_addiction_succumb_reason_11_shifted_1         11645 non-null  float64\n",
      " 59  r_addiction_succumb_reason_12_shifted_1         11645 non-null  float64\n",
      " 60  r_persevere_motivation_0_shifted_1              11645 non-null  float64\n",
      " 61  r_persevere_motivation_1_shifted_1              11645 non-null  float64\n",
      " 62  r_persevere_motivation_2_shifted_1              11645 non-null  float64\n",
      " 63  r_persevere_motivation_3_shifted_1              11645 non-null  float64\n",
      " 64  r_persevere_motivation_4_shifted_1              11645 non-null  float64\n",
      " 65  r_persevere_motivation_5_shifted_1              11645 non-null  float64\n",
      " 66  r_persevere_motivation_6_shifted_1              11645 non-null  float64\n",
      " 67  r_persevere_motivation_7_shifted_1              11645 non-null  float64\n",
      " 68  r_persevere_motivation_8_shifted_1              11645 non-null  float64\n",
      " 69  r_persevere_motivation_9_shifted_1              11645 non-null  float64\n",
      " 70  r_addiction_succumb_consequences2_0_shifted_1   11645 non-null  float64\n",
      " 71  r_addiction_succumb_consequences2_1_shifted_1   11645 non-null  float64\n",
      " 72  r_addiction_succumb_consequences2_2_shifted_1   11645 non-null  float64\n",
      " 73  r_addiction_succumb_consequences2_3_shifted_1   11645 non-null  float64\n",
      " 74  r_addiction_succumb_consequences2_4_shifted_1   11645 non-null  float64\n",
      " 75  r_addiction_succumb_consequences2_5_shifted_1   11645 non-null  float64\n",
      " 76  r_addiction_succumb_consequences2_6_shifted_1   11645 non-null  float64\n",
      " 77  r_addiction_succumb_consequences2_7_shifted_1   11645 non-null  float64\n",
      " 78  r_addiction_succumb_consequences2_8_shifted_1   11645 non-null  float64\n",
      " 79  r_addiction_succumb_consequences2_9_shifted_1   11645 non-null  float64\n",
      " 80  r_addiction_succumb_consequences2_10_shifted_1  11645 non-null  float64\n",
      " 81  r_addiction_succumb_consequences2_11_shifted_1  11645 non-null  float64\n",
      " 82  r_addiction_succumb_consequences2_12_shifted_1  11645 non-null  float64\n",
      " 83  r_addiction_succumb_consequences2_13_shifted_1  11645 non-null  float64\n",
      " 84  r_addiction_succumb_consequences2_14_shifted_1  11645 non-null  float64\n",
      " 85  r_addiction_succumb_consequences2_15_shifted_1  11645 non-null  float64\n",
      " 86  r_addiction_succumb_consequences2_16_shifted_1  11645 non-null  float64\n",
      " 87  r_addiction_succumb_consequences2_18_shifted_1  11645 non-null  float64\n",
      " 88  r_addiction_succumb_consequences2_19_shifted_1  11645 non-null  float64\n",
      " 89  r_addiction_succumb_consequences2_20_shifted_1  11645 non-null  float64\n",
      " 90  r_addiction_succumb_consequences2_21_shifted_1  11645 non-null  float64\n",
      " 91  r_addiction_succumb_consequences2_22_shifted_1  11645 non-null  float64\n",
      " 92  day_of_week                                     11645 non-null  int64  \n",
      " 93  time_of_day                                     11645 non-null  float64\n",
      " 94  r_delta_f                                       11645 non-null  float64\n",
      "dtypes: float64(91), int64(1), object(3)\n",
      "memory usage: 8.5+ MB\n"
     ]
    }
   ],
   "source": [
    "# no missing values anymore\n",
    "df.info()"
   ]
  },
  {
   "cell_type": "markdown",
   "id": "e5e9f03e",
   "metadata": {},
   "source": [
    "# Store final dataset"
   ]
  },
  {
   "cell_type": "code",
   "execution_count": 47,
   "id": "ee2a25aa",
   "metadata": {},
   "outputs": [],
   "source": [
    "df.to_csv('data/final_dataset.csv', index=False)"
   ]
  }
 ],
 "metadata": {
  "kernelspec": {
   "display_name": "Python [conda env:base2shap]",
   "language": "python",
   "name": "conda-env-base2shap-py"
  },
  "language_info": {
   "codemirror_mode": {
    "name": "ipython",
    "version": 3
   },
   "file_extension": ".py",
   "mimetype": "text/x-python",
   "name": "python",
   "nbconvert_exporter": "python",
   "pygments_lexer": "ipython3",
   "version": "3.8.12"
  }
 },
 "nbformat": 4,
 "nbformat_minor": 5
}
