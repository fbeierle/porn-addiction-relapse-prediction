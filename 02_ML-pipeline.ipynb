{
 "cells": [
  {
   "cell_type": "markdown",
   "id": "ae4e269c",
   "metadata": {},
   "source": [
    "# Script 02: Machine learning\n",
    "How well can we predict a relapse?\n",
    "\n",
    "This script takes the final dataset; filters for data to be used in the pipeline (filtering for bias reduction); and executes a stratified k-fold group cross-validation (the answers given by one user constitute one group). We conduct a 5-fold nested cross-validation and store the results for each of the 5 folds in pickle files - to be analyzed in the next script."
   ]
  },
  {
   "cell_type": "code",
   "execution_count": 1,
   "id": "34899cea",
   "metadata": {},
   "outputs": [
    {
     "data": {
      "text/html": [
       "<style>.container { width:90% !important; }</style>"
      ],
      "text/plain": [
       "<IPython.core.display.HTML object>"
      ]
     },
     "metadata": {},
     "output_type": "display_data"
    }
   ],
   "source": [
    "from IPython.core.display import display, HTML\n",
    "display(HTML(\"<style>.container { width:90% !important; }</style>\"))\n",
    "\n",
    "#pd.options.display.max_rows = 100\n",
    "#pd.options.display.min_rows = 100"
   ]
  },
  {
   "cell_type": "code",
   "execution_count": 2,
   "id": "6b7d1d6e",
   "metadata": {},
   "outputs": [],
   "source": [
    "import pandas as pd\n",
    "import numpy as np\n",
    "\n",
    "from imblearn.pipeline import Pipeline, make_pipeline\n",
    "from imblearn.over_sampling import SMOTE\n",
    "from sklearn.preprocessing import MaxAbsScaler\n",
    "from sklearn.model_selection import StratifiedGroupKFold, GridSearchCV\n",
    "from lightgbm import LGBMClassifier\n",
    "from sklearn.metrics import (recall_score, precision_score, f1_score, explained_variance_score, mean_squared_error,\n",
    "                            mean_absolute_error, r2_score, confusion_matrix, roc_auc_score, average_precision_score,\n",
    "                            accuracy_score, plot_confusion_matrix, precision_recall_curve, auc)\n",
    "\n",
    "import matplotlib.pyplot as plt\n",
    "import seaborn as sns\n",
    "\n",
    "import datetime\n",
    "import pickle"
   ]
  },
  {
   "cell_type": "markdown",
   "id": "a46a3207",
   "metadata": {},
   "source": [
    "# Helper Functions and Classes"
   ]
  },
  {
   "cell_type": "code",
   "execution_count": 3,
   "id": "ab7c086b",
   "metadata": {},
   "outputs": [],
   "source": [
    "# for storing our results\n",
    "class results:\n",
    "\n",
    "    # parameterized constructor\n",
    "    def __init__(self, search, y_test, y_test_predict, X_test, X_train, y_train, groups,\n",
    "                 y_df, X_df, train_index, test_index, cnt, pipe, searchspace):\n",
    "        self.search = search\n",
    "        self.y_test = y_test\n",
    "        self.y_test_predict = y_test_predict\n",
    "        self.X_test = X_test\n",
    "        self.X_train = X_train\n",
    "        self.y_train = y_train\n",
    "        self.groups = groups\n",
    "        self.y_df = y_df\n",
    "        self.X_df = X_df\n",
    "        self.train_index = train_index\n",
    "        self.test_index = test_index\n",
    "        self.cnt = cnt\n",
    "        self.pipe = pipe\n",
    "        self.searchspace = searchspace"
   ]
  },
  {
   "cell_type": "markdown",
   "id": "bad6f6c5",
   "metadata": {},
   "source": [
    "# Load data"
   ]
  },
  {
   "cell_type": "code",
   "execution_count": 4,
   "id": "b3f10b5f",
   "metadata": {},
   "outputs": [],
   "source": [
    "df = pd.read_csv('data/final_dataset.csv')"
   ]
  },
  {
   "cell_type": "markdown",
   "id": "893e6daf",
   "metadata": {},
   "source": [
    "# Filter data to be used\n",
    "In order to avoid a bias by overrepresenting specific participants, we filter to only consider\n",
    "users with at least 7 entries and using only up to 200 entries per user."
   ]
  },
  {
   "cell_type": "code",
   "execution_count": 5,
   "id": "1188cdaa",
   "metadata": {},
   "outputs": [
    {
     "name": "stdout",
     "output_type": "stream",
     "text": [
      "number of users with at least 1 entry: 441\n",
      "number of rows: 11645\n"
     ]
    },
    {
     "data": {
      "text/plain": [
       "(array([289.,  48.,  33.,  18.,  20.,   9.,   2.,   4.,   4.,   2.,   0.,\n",
       "          0.,   1.,   1.,   3.,   2.,   0.,   0.,   1.,   0.,   0.,   1.,\n",
       "          0.,   0.,   0.,   1.,   0.,   0.,   0.,   0.,   0.,   1.,   0.,\n",
       "          0.,   0.,   0.,   0.,   0.,   0.,   0.,   0.,   0.,   0.,   0.,\n",
       "          0.,   0.,   0.,   0.,   0.,   1.]),\n",
       " array([  1.  ,  15.48,  29.96,  44.44,  58.92,  73.4 ,  87.88, 102.36,\n",
       "        116.84, 131.32, 145.8 , 160.28, 174.76, 189.24, 203.72, 218.2 ,\n",
       "        232.68, 247.16, 261.64, 276.12, 290.6 , 305.08, 319.56, 334.04,\n",
       "        348.52, 363.  , 377.48, 391.96, 406.44, 420.92, 435.4 , 449.88,\n",
       "        464.36, 478.84, 493.32, 507.8 , 522.28, 536.76, 551.24, 565.72,\n",
       "        580.2 , 594.68, 609.16, 623.64, 638.12, 652.6 , 667.08, 681.56,\n",
       "        696.04, 710.52, 725.  ]),\n",
       " <a list of 50 Patch objects>)"
      ]
     },
     "execution_count": 5,
     "metadata": {},
     "output_type": "execute_result"
    },
    {
     "data": {
      "image/png": "[encoded data removed]",
      "text/plain": [
       "<Figure size 432x288 with 1 Axes>"
      ]
     },
     "metadata": {
      "needs_background": "light"
     },
     "output_type": "display_data"
    }
   ],
   "source": [
    "print('number of users with at least '+str(1)+' entry: '+str(df['responderId'].nunique()))\n",
    "print('number of rows: '+str(len(df.index)))\n",
    "plt.hist(df['responderId'].value_counts(), bins=50)"
   ]
  },
  {
   "cell_type": "code",
   "execution_count": 6,
   "id": "a3dcf072",
   "metadata": {},
   "outputs": [],
   "source": [
    "# add counts\n",
    "df2 = df.groupby([\"responderId\"]).size().to_frame(name='count_tmp').reset_index()\n",
    "\n",
    "# merge df1 and df2\n",
    "df3 = pd.merge(df, df2,  how='left', left_on=['responderId'], right_on = ['responderId'])\n",
    "\n",
    "# numerate entries per user per answer\n",
    "df3['numerate_by_user_tmp'] = df3.groupby(['responderId']).cumcount()+1"
   ]
  },
  {
   "cell_type": "code",
   "execution_count": 7,
   "id": "d9ed1619",
   "metadata": {},
   "outputs": [
    {
     "name": "stdout",
     "output_type": "stream",
     "text": [
      "number of users with at least 7 entries: 224\n",
      "number of rows: 11055\n"
     ]
    },
    {
     "data": {
      "text/plain": [
       "(array([97., 31., 35., 18., 13.,  8.,  1.,  5.,  2.,  2.,  0.,  0.,  1.,\n",
       "         2.,  3.,  1.,  0.,  0.,  1.,  0.,  0.,  1.,  0.,  0.,  0.,  1.,\n",
       "         0.,  0.,  0.,  0.,  0.,  1.,  0.,  0.,  0.,  0.,  0.,  0.,  0.,\n",
       "         0.,  0.,  0.,  0.,  0.,  0.,  0.,  0.,  0.,  0.,  1.]),\n",
       " array([  7.  ,  21.36,  35.72,  50.08,  64.44,  78.8 ,  93.16, 107.52,\n",
       "        121.88, 136.24, 150.6 , 164.96, 179.32, 193.68, 208.04, 222.4 ,\n",
       "        236.76, 251.12, 265.48, 279.84, 294.2 , 308.56, 322.92, 337.28,\n",
       "        351.64, 366.  , 380.36, 394.72, 409.08, 423.44, 437.8 , 452.16,\n",
       "        466.52, 480.88, 495.24, 509.6 , 523.96, 538.32, 552.68, 567.04,\n",
       "        581.4 , 595.76, 610.12, 624.48, 638.84, 653.2 , 667.56, 681.92,\n",
       "        696.28, 710.64, 725.  ]),\n",
       " <a list of 50 Patch objects>)"
      ]
     },
     "execution_count": 7,
     "metadata": {},
     "output_type": "execute_result"
    },
    {
     "data": {
      "image/png": "[encoded data removed]",
      "text/plain": [
       "<Figure size 432x288 with 1 Axes>"
      ]
     },
     "metadata": {
      "needs_background": "light"
     },
     "output_type": "display_data"
    }
   ],
   "source": [
    "# users that filled out the questionnaire at least x times\n",
    "x = 7\n",
    "df_lim = df3[df3['count_tmp'] >= x]\n",
    "\n",
    "print('number of users with at least '+str(x)+' entries: '+str(df_lim['responderId'].nunique()))\n",
    "print('number of rows: '+str(len(df_lim.index)))\n",
    "plt.hist(df_lim['responderId'].value_counts(), bins=50)"
   ]
  },
  {
   "cell_type": "code",
   "execution_count": 8,
   "id": "ed658937",
   "metadata": {},
   "outputs": [
    {
     "name": "stdout",
     "output_type": "stream",
     "text": [
      "users with at least 7 entries and using only up to 200 entries (224 users)\n",
      "number of rows: 9846\n"
     ]
    },
    {
     "data": {
      "text/plain": [
       "(array([39., 22., 27., 13., 11.,  8.,  6.,  5., 16.,  7.,  9.,  1.,  6.,\n",
       "         6.,  5.,  3.,  3.,  5.,  3.,  2.,  3.,  1.,  1.,  0.,  0.,  1.,\n",
       "         0.,  2.,  2.,  1.,  1.,  1.,  0.,  1.,  0.,  1.,  0.,  0.,  0.,\n",
       "         0.,  0.,  0.,  0.,  0.,  0.,  0.,  1.,  0.,  1., 10.]),\n",
       " array([  7.  ,  10.86,  14.72,  18.58,  22.44,  26.3 ,  30.16,  34.02,\n",
       "         37.88,  41.74,  45.6 ,  49.46,  53.32,  57.18,  61.04,  64.9 ,\n",
       "         68.76,  72.62,  76.48,  80.34,  84.2 ,  88.06,  91.92,  95.78,\n",
       "         99.64, 103.5 , 107.36, 111.22, 115.08, 118.94, 122.8 , 126.66,\n",
       "        130.52, 134.38, 138.24, 142.1 , 145.96, 149.82, 153.68, 157.54,\n",
       "        161.4 , 165.26, 169.12, 172.98, 176.84, 180.7 , 184.56, 188.42,\n",
       "        192.28, 196.14, 200.  ]),\n",
       " <a list of 50 Patch objects>)"
      ]
     },
     "execution_count": 8,
     "metadata": {},
     "output_type": "execute_result"
    },
    {
     "data": {
      "image/png": "[encoded data removed]",
      "text/plain": [
       "<Figure size 432x288 with 1 Axes>"
      ]
     },
     "metadata": {
      "needs_background": "light"
     },
     "output_type": "display_data"
    }
   ],
   "source": [
    "# retain only the y first entries\n",
    "y = 200\n",
    "df_lim = df_lim[df_lim['numerate_by_user_tmp'] <= y]\n",
    "\n",
    "print('users with at least '+str(x)+' entries and using only up to '+str(y)+' entries ('+str(df_lim['responderId'].nunique())+ ' users)')\n",
    "print('number of rows: '+str(len(df_lim.index)))\n",
    "plt.hist(df_lim['responderId'].value_counts(), bins=50)"
   ]
  },
  {
   "cell_type": "code",
   "execution_count": 9,
   "id": "40a1d11a",
   "metadata": {},
   "outputs": [],
   "source": [
    "# remove unnecessary columns\n",
    "df = df_lim.drop(columns=['count_tmp', 'numerate_by_user_tmp'])"
   ]
  },
  {
   "cell_type": "markdown",
   "id": "29eb95e8",
   "metadata": {},
   "source": [
    "# Check correlations"
   ]
  },
  {
   "cell_type": "code",
   "execution_count": 10,
   "id": "c163a872",
   "metadata": {},
   "outputs": [
    {
     "data": {
      "text/plain": [
       "r_relapse                                         1.000000\n",
       "r_persevere_difficulty_shifted_1                  0.212613\n",
       "r_addiction_succumb_times_shifted_1               0.198592\n",
       "r_craving_shifted_1                               0.188962\n",
       "r_addiction_succumb_reason_7_shifted_1            0.170741\n",
       "                                                    ...   \n",
       "c_gambling                                        0.015348\n",
       "c_masturbation                                    0.013600\n",
       "q_treatment                                       0.011359\n",
       "r_addiction_succumb_consequences2_13_shifted_1    0.010380\n",
       "r_persevere_motivation_9_shifted_1                0.010021\n",
       "Name: r_relapse, Length: 85, dtype: float64"
      ]
     },
     "execution_count": 10,
     "metadata": {},
     "output_type": "execute_result"
    }
   ],
   "source": [
    "correlation_series = df.corr(method = 'spearman')['r_relapse'].abs().sort_values(ascending = False)\n",
    "correlation_series[correlation_series > 0.01]"
   ]
  },
  {
   "cell_type": "code",
   "execution_count": 11,
   "id": "f7e0f85d",
   "metadata": {},
   "outputs": [
    {
     "data": {
      "text/plain": [
       "0.0    8133\n",
       "1.0    1713\n",
       "Name: r_relapse, dtype: int64"
      ]
     },
     "execution_count": 11,
     "metadata": {},
     "output_type": "execute_result"
    }
   ],
   "source": [
    "# we note the imbalance of our two classes\n",
    "df['r_relapse'].value_counts()"
   ]
  },
  {
   "cell_type": "markdown",
   "id": "62d93e68",
   "metadata": {},
   "source": [
    "# Machine learning pipeline"
   ]
  },
  {
   "cell_type": "markdown",
   "id": "6aa2b1da",
   "metadata": {},
   "source": [
    "This pipeline does nested cross-validation for classifying \"r_relapse\".\n",
    "\n",
    "I am using StratifiedGroupKFold, because in order to avoid target leaking, each user should either be in the training OR the test set. Additionally, we want the classes (relapse/no relapse) to be of equal size (stratification).\n",
    "\n",
    "Pipeline steps are: SMOTE (upsampling of the minority class), scaling, LGBM classifier\n",
    "\n",
    "The code will run hyperparameter optimization with GridSearchCV for each StratifiedGroupKFold.\n",
    "\n",
    "Because of the class imbalance, we use average precision (i.e., the precision-recall-curve) as the evaluation metric.\n",
    "See https://journals.plos.org/plosone/article?id=10.1371/journal.pone.0118432"
   ]
  },
  {
   "cell_type": "code",
   "execution_count": 12,
   "id": "e014fa29",
   "metadata": {},
   "outputs": [],
   "source": [
    "# get group labels to avoid using data from the same user in train and test\n",
    "groups = df.reset_index()['responderId'].tolist()\n",
    "\n",
    "# make numpy array out of python list\n",
    "groups = np.array(groups)\n",
    "\n",
    "# need to remove responderId column, so it is not used as a feature\n",
    "df = df.reset_index().drop(columns=['responderId', 'index'])\n",
    "\n",
    "# define X and y\n",
    "X = df.loc[:, df.columns != 'r_relapse']\n",
    "y = df.loc[:, df.columns == 'r_relapse']\n",
    "# these copies can be helpful for getting feature names later; for example, for feature importance:\n",
    "X_df = X.copy()\n",
    "y_df = y.copy() \n",
    "y = y['r_relapse']\n",
    "\n",
    "# create numpy arrays for working smoothly with scikit-learn\n",
    "X = X.values\n",
    "y = y.values\n",
    "\n",
    "inner_fold = 5\n",
    "outer_fold = 5\n",
    "\n",
    "# this will be used in GridSearchCV, generating train and test sets with StratifiedGroupKFold\n",
    "inner_cv = StratifiedGroupKFold(n_splits=inner_fold)\n",
    "outer_cv = StratifiedGroupKFold(n_splits=outer_fold)"
   ]
  },
  {
   "cell_type": "code",
   "execution_count": 13,
   "id": "4cc9b63f",
   "metadata": {},
   "outputs": [],
   "source": [
    "# defining the pipeline\n",
    "clf_pipe = Pipeline(\n",
    "    steps=[\n",
    "           ('smote', SMOTE(random_state=42)),\n",
    "           ('maxabs', MaxAbsScaler()),\n",
    "           ('lgbm', LGBMClassifier())\n",
    "    ]\n",
    ")\n",
    "\n",
    "# setting the search space for GridSearchCV\n",
    "search_space = [{'lgbm__num_leaves': [2,4,6,8,16,32],\n",
    "                 'lgbm__max_depth': [-1,3,4,5,6,7,8,9,10,11,12],\n",
    "                 'lgbm__learning_rate': [0.01,0.1,0.2,0.3],\n",
    "                 'lgbm__n_estimators': [25,50,100,200,300,400,500,1000,1500],\n",
    "                 'lgbm__deterministic': [True],\n",
    "                 'lgbm__force_row_wise': [True]\n",
    "                }]"
   ]
  },
  {
   "cell_type": "code",
   "execution_count": null,
   "id": "39c9ef5c",
   "metadata": {},
   "outputs": [],
   "source": [
    "%%time\n",
    "\n",
    "# counting the folds\n",
    "cnt = 0\n",
    "\n",
    "# for getting the average of the desired score\n",
    "scores = []\n",
    "\n",
    "search = ''\n",
    "\n",
    "# for each outer fold, optimize the hyperparameters on the inner folds, while considering the groups\n",
    "for train_index_curr, test_index_curr in outer_cv.split(X, y, groups):\n",
    "    cnt += 1\n",
    "    \n",
    "    print(\"Fold \"+str(cnt))\n",
    "    \n",
    "    train_index = train_index_curr\n",
    "    test_index = test_index_curr\n",
    "    print(\"TRAIN len: \", len(train_index), \"TEST len: \", len(test_index))\n",
    "\n",
    "    X_train, X_test = X[train_index], X[test_index]\n",
    "    y_train, y_test = y[train_index], y[test_index]\n",
    "    \n",
    "    X_df_train = X_df.iloc[train_index]\n",
    "    y_df_train = y_df.iloc[train_index]\n",
    "\n",
    "    X_df_test = X_df.iloc[test_index]\n",
    "    y_df_test = y_df.iloc[test_index]\n",
    "    print(\"test set distribution:\")\n",
    "    print(y_df_test['r_relapse'].value_counts(normalize=True))\n",
    "\n",
    "    test_examples = y_df_test.shape[0]\n",
    "    test_examples_positive = y_df_test[y_df_test['r_relapse'] == 1].shape[0]\n",
    "    \n",
    "    search = GridSearchCV(clf_pipe,\n",
    "                      param_grid=search_space,\n",
    "                      cv=inner_cv,\n",
    "                      scoring='average_precision',\n",
    "                      return_train_score=True,\n",
    "                      verbose=10,\n",
    "                      n_jobs=-1)\n",
    "    search.fit(X_train, y_train, groups=groups[train_index])\n",
    "    \n",
    "    print('Best training params and score:')\n",
    "    print(search.best_params_)\n",
    "    print(search.best_score_)\n",
    "    \n",
    "    y_test_predict = search.predict(X_test)\n",
    "    y_test_predict_proba = search.predict_proba(X_test)[:,1]\n",
    "    \n",
    "    print('test scores:')\n",
    "    print('baseline for average_precision (number of positive examples/total examples): '+str(test_examples_positive/test_examples))\n",
    "    print('average_precision: '+str(average_precision_score(y_test, y_test_predict_proba)))\n",
    "    print('accuracy: '+str(accuracy_score(y_test, y_test_predict)))\n",
    "    \n",
    "    scores.append(average_precision_score(y_test, y_test_predict_proba))\n",
    "    \n",
    "    print(confusion_matrix(y_test, y_test_predict))\n",
    "    print('\\n')\n",
    "    \n",
    "    # store results of the fold\n",
    "    fold = results(search, y_test, y_test_predict, X_test, X_train, y_train, groups,\n",
    "                   y_df, X_df, train_index, test_index, cnt, clf_pipe, search_space)\n",
    "    name = 'porno-pipeline'\n",
    "    date = datetime.datetime.now().strftime(\"%Y-%m-%d-%H-%M-%S\")\n",
    "    path = 'results/'\n",
    "    pickle.dump(fold, open(path+str(date)+'-'+str(name)+'-fold-'+str(cnt)+'.pkl', 'wb'))\n",
    "    \n",
    "print(str(np.mean(scores)))"
   ]
  },
  {
   "cell_type": "code",
   "execution_count": null,
   "id": "cdd0049e",
   "metadata": {},
   "outputs": [],
   "source": [
    "# Please note: log output ommited here for size reasons; see next script for results"
   ]
  }
 ],
 "metadata": {
  "kernelspec": {
   "display_name": "Python [conda env:base2shap]",
   "language": "python",
   "name": "conda-env-base2shap-py"
  },
  "language_info": {
   "codemirror_mode": {
    "name": "ipython",
    "version": 3
   },
   "file_extension": ".py",
   "mimetype": "text/x-python",
   "name": "python",
   "nbconvert_exporter": "python",
   "pygments_lexer": "ipython3",
   "version": "3.8.12"
  }
 },
 "nbformat": 4,
 "nbformat_minor": 5
}
